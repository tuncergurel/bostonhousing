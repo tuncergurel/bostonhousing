{
 "cells": [
  {
   "cell_type": "code",
   "execution_count": 1,
   "metadata": {},
   "outputs": [],
   "source": [
    "import pandas as pd\n",
    "import numpy as np\n",
    "import matplotlib.pyplot as plt"
   ]
  },
  {
   "cell_type": "code",
   "execution_count": 2,
   "metadata": {},
   "outputs": [],
   "source": [
    "data = pd.read_csv(\"Boston.csv\")"
   ]
  },
  {
   "cell_type": "code",
   "execution_count": 3,
   "metadata": {},
   "outputs": [],
   "source": [
    "data = data.drop(\"Unnamed: 0\", axis= 1)"
   ]
  },
  {
   "cell_type": "code",
   "execution_count": 4,
   "metadata": {},
   "outputs": [
    {
     "data": {
      "text/html": [
       "<div>\n",
       "<style scoped>\n",
       "    .dataframe tbody tr th:only-of-type {\n",
       "        vertical-align: middle;\n",
       "    }\n",
       "\n",
       "    .dataframe tbody tr th {\n",
       "        vertical-align: top;\n",
       "    }\n",
       "\n",
       "    .dataframe thead th {\n",
       "        text-align: right;\n",
       "    }\n",
       "</style>\n",
       "<table border=\"1\" class=\"dataframe\">\n",
       "  <thead>\n",
       "    <tr style=\"text-align: right;\">\n",
       "      <th></th>\n",
       "      <th>crim</th>\n",
       "      <th>zn</th>\n",
       "      <th>indus</th>\n",
       "      <th>chas</th>\n",
       "      <th>nox</th>\n",
       "      <th>rm</th>\n",
       "      <th>age</th>\n",
       "      <th>dis</th>\n",
       "      <th>rad</th>\n",
       "      <th>tax</th>\n",
       "      <th>ptratio</th>\n",
       "      <th>black</th>\n",
       "      <th>lstat</th>\n",
       "      <th>medv</th>\n",
       "    </tr>\n",
       "  </thead>\n",
       "  <tbody>\n",
       "    <tr>\n",
       "      <th>0</th>\n",
       "      <td>0.00632</td>\n",
       "      <td>18.0</td>\n",
       "      <td>2.31</td>\n",
       "      <td>0</td>\n",
       "      <td>0.538</td>\n",
       "      <td>6.575</td>\n",
       "      <td>65.2</td>\n",
       "      <td>4.0900</td>\n",
       "      <td>1</td>\n",
       "      <td>296</td>\n",
       "      <td>15.3</td>\n",
       "      <td>396.90</td>\n",
       "      <td>4.98</td>\n",
       "      <td>24.0</td>\n",
       "    </tr>\n",
       "    <tr>\n",
       "      <th>1</th>\n",
       "      <td>0.02731</td>\n",
       "      <td>0.0</td>\n",
       "      <td>7.07</td>\n",
       "      <td>0</td>\n",
       "      <td>0.469</td>\n",
       "      <td>6.421</td>\n",
       "      <td>78.9</td>\n",
       "      <td>4.9671</td>\n",
       "      <td>2</td>\n",
       "      <td>242</td>\n",
       "      <td>17.8</td>\n",
       "      <td>396.90</td>\n",
       "      <td>9.14</td>\n",
       "      <td>21.6</td>\n",
       "    </tr>\n",
       "    <tr>\n",
       "      <th>2</th>\n",
       "      <td>0.02729</td>\n",
       "      <td>0.0</td>\n",
       "      <td>7.07</td>\n",
       "      <td>0</td>\n",
       "      <td>0.469</td>\n",
       "      <td>7.185</td>\n",
       "      <td>61.1</td>\n",
       "      <td>4.9671</td>\n",
       "      <td>2</td>\n",
       "      <td>242</td>\n",
       "      <td>17.8</td>\n",
       "      <td>392.83</td>\n",
       "      <td>4.03</td>\n",
       "      <td>34.7</td>\n",
       "    </tr>\n",
       "    <tr>\n",
       "      <th>3</th>\n",
       "      <td>0.03237</td>\n",
       "      <td>0.0</td>\n",
       "      <td>2.18</td>\n",
       "      <td>0</td>\n",
       "      <td>0.458</td>\n",
       "      <td>6.998</td>\n",
       "      <td>45.8</td>\n",
       "      <td>6.0622</td>\n",
       "      <td>3</td>\n",
       "      <td>222</td>\n",
       "      <td>18.7</td>\n",
       "      <td>394.63</td>\n",
       "      <td>2.94</td>\n",
       "      <td>33.4</td>\n",
       "    </tr>\n",
       "    <tr>\n",
       "      <th>4</th>\n",
       "      <td>0.06905</td>\n",
       "      <td>0.0</td>\n",
       "      <td>2.18</td>\n",
       "      <td>0</td>\n",
       "      <td>0.458</td>\n",
       "      <td>7.147</td>\n",
       "      <td>54.2</td>\n",
       "      <td>6.0622</td>\n",
       "      <td>3</td>\n",
       "      <td>222</td>\n",
       "      <td>18.7</td>\n",
       "      <td>396.90</td>\n",
       "      <td>5.33</td>\n",
       "      <td>36.2</td>\n",
       "    </tr>\n",
       "    <tr>\n",
       "      <th>...</th>\n",
       "      <td>...</td>\n",
       "      <td>...</td>\n",
       "      <td>...</td>\n",
       "      <td>...</td>\n",
       "      <td>...</td>\n",
       "      <td>...</td>\n",
       "      <td>...</td>\n",
       "      <td>...</td>\n",
       "      <td>...</td>\n",
       "      <td>...</td>\n",
       "      <td>...</td>\n",
       "      <td>...</td>\n",
       "      <td>...</td>\n",
       "      <td>...</td>\n",
       "    </tr>\n",
       "    <tr>\n",
       "      <th>501</th>\n",
       "      <td>0.06263</td>\n",
       "      <td>0.0</td>\n",
       "      <td>11.93</td>\n",
       "      <td>0</td>\n",
       "      <td>0.573</td>\n",
       "      <td>6.593</td>\n",
       "      <td>69.1</td>\n",
       "      <td>2.4786</td>\n",
       "      <td>1</td>\n",
       "      <td>273</td>\n",
       "      <td>21.0</td>\n",
       "      <td>391.99</td>\n",
       "      <td>9.67</td>\n",
       "      <td>22.4</td>\n",
       "    </tr>\n",
       "    <tr>\n",
       "      <th>502</th>\n",
       "      <td>0.04527</td>\n",
       "      <td>0.0</td>\n",
       "      <td>11.93</td>\n",
       "      <td>0</td>\n",
       "      <td>0.573</td>\n",
       "      <td>6.120</td>\n",
       "      <td>76.7</td>\n",
       "      <td>2.2875</td>\n",
       "      <td>1</td>\n",
       "      <td>273</td>\n",
       "      <td>21.0</td>\n",
       "      <td>396.90</td>\n",
       "      <td>9.08</td>\n",
       "      <td>20.6</td>\n",
       "    </tr>\n",
       "    <tr>\n",
       "      <th>503</th>\n",
       "      <td>0.06076</td>\n",
       "      <td>0.0</td>\n",
       "      <td>11.93</td>\n",
       "      <td>0</td>\n",
       "      <td>0.573</td>\n",
       "      <td>6.976</td>\n",
       "      <td>91.0</td>\n",
       "      <td>2.1675</td>\n",
       "      <td>1</td>\n",
       "      <td>273</td>\n",
       "      <td>21.0</td>\n",
       "      <td>396.90</td>\n",
       "      <td>5.64</td>\n",
       "      <td>23.9</td>\n",
       "    </tr>\n",
       "    <tr>\n",
       "      <th>504</th>\n",
       "      <td>0.10959</td>\n",
       "      <td>0.0</td>\n",
       "      <td>11.93</td>\n",
       "      <td>0</td>\n",
       "      <td>0.573</td>\n",
       "      <td>6.794</td>\n",
       "      <td>89.3</td>\n",
       "      <td>2.3889</td>\n",
       "      <td>1</td>\n",
       "      <td>273</td>\n",
       "      <td>21.0</td>\n",
       "      <td>393.45</td>\n",
       "      <td>6.48</td>\n",
       "      <td>22.0</td>\n",
       "    </tr>\n",
       "    <tr>\n",
       "      <th>505</th>\n",
       "      <td>0.04741</td>\n",
       "      <td>0.0</td>\n",
       "      <td>11.93</td>\n",
       "      <td>0</td>\n",
       "      <td>0.573</td>\n",
       "      <td>6.030</td>\n",
       "      <td>80.8</td>\n",
       "      <td>2.5050</td>\n",
       "      <td>1</td>\n",
       "      <td>273</td>\n",
       "      <td>21.0</td>\n",
       "      <td>396.90</td>\n",
       "      <td>7.88</td>\n",
       "      <td>11.9</td>\n",
       "    </tr>\n",
       "  </tbody>\n",
       "</table>\n",
       "<p>506 rows × 14 columns</p>\n",
       "</div>"
      ],
      "text/plain": [
       "        crim    zn  indus  chas    nox     rm   age     dis  rad  tax  \\\n",
       "0    0.00632  18.0   2.31     0  0.538  6.575  65.2  4.0900    1  296   \n",
       "1    0.02731   0.0   7.07     0  0.469  6.421  78.9  4.9671    2  242   \n",
       "2    0.02729   0.0   7.07     0  0.469  7.185  61.1  4.9671    2  242   \n",
       "3    0.03237   0.0   2.18     0  0.458  6.998  45.8  6.0622    3  222   \n",
       "4    0.06905   0.0   2.18     0  0.458  7.147  54.2  6.0622    3  222   \n",
       "..       ...   ...    ...   ...    ...    ...   ...     ...  ...  ...   \n",
       "501  0.06263   0.0  11.93     0  0.573  6.593  69.1  2.4786    1  273   \n",
       "502  0.04527   0.0  11.93     0  0.573  6.120  76.7  2.2875    1  273   \n",
       "503  0.06076   0.0  11.93     0  0.573  6.976  91.0  2.1675    1  273   \n",
       "504  0.10959   0.0  11.93     0  0.573  6.794  89.3  2.3889    1  273   \n",
       "505  0.04741   0.0  11.93     0  0.573  6.030  80.8  2.5050    1  273   \n",
       "\n",
       "     ptratio   black  lstat  medv  \n",
       "0       15.3  396.90   4.98  24.0  \n",
       "1       17.8  396.90   9.14  21.6  \n",
       "2       17.8  392.83   4.03  34.7  \n",
       "3       18.7  394.63   2.94  33.4  \n",
       "4       18.7  396.90   5.33  36.2  \n",
       "..       ...     ...    ...   ...  \n",
       "501     21.0  391.99   9.67  22.4  \n",
       "502     21.0  396.90   9.08  20.6  \n",
       "503     21.0  396.90   5.64  23.9  \n",
       "504     21.0  393.45   6.48  22.0  \n",
       "505     21.0  396.90   7.88  11.9  \n",
       "\n",
       "[506 rows x 14 columns]"
      ]
     },
     "execution_count": 4,
     "metadata": {},
     "output_type": "execute_result"
    }
   ],
   "source": [
    "data"
   ]
  },
  {
   "cell_type": "code",
   "execution_count": 5,
   "metadata": {},
   "outputs": [],
   "source": [
    "data_y = data.pop(\"medv\")"
   ]
  },
  {
   "cell_type": "code",
   "execution_count": 6,
   "metadata": {},
   "outputs": [
    {
     "data": {
      "text/plain": [
       "0      24.0\n",
       "1      21.6\n",
       "2      34.7\n",
       "3      33.4\n",
       "4      36.2\n",
       "       ... \n",
       "501    22.4\n",
       "502    20.6\n",
       "503    23.9\n",
       "504    22.0\n",
       "505    11.9\n",
       "Name: medv, Length: 506, dtype: float64"
      ]
     },
     "execution_count": 6,
     "metadata": {},
     "output_type": "execute_result"
    }
   ],
   "source": [
    "data_y"
   ]
  },
  {
   "cell_type": "code",
   "execution_count": 7,
   "metadata": {},
   "outputs": [
    {
     "data": {
      "text/html": [
       "<div>\n",
       "<style scoped>\n",
       "    .dataframe tbody tr th:only-of-type {\n",
       "        vertical-align: middle;\n",
       "    }\n",
       "\n",
       "    .dataframe tbody tr th {\n",
       "        vertical-align: top;\n",
       "    }\n",
       "\n",
       "    .dataframe thead th {\n",
       "        text-align: right;\n",
       "    }\n",
       "</style>\n",
       "<table border=\"1\" class=\"dataframe\">\n",
       "  <thead>\n",
       "    <tr style=\"text-align: right;\">\n",
       "      <th></th>\n",
       "      <th>crim</th>\n",
       "      <th>zn</th>\n",
       "      <th>indus</th>\n",
       "      <th>chas</th>\n",
       "      <th>nox</th>\n",
       "      <th>rm</th>\n",
       "      <th>age</th>\n",
       "      <th>dis</th>\n",
       "      <th>rad</th>\n",
       "      <th>tax</th>\n",
       "      <th>ptratio</th>\n",
       "      <th>black</th>\n",
       "      <th>lstat</th>\n",
       "    </tr>\n",
       "  </thead>\n",
       "  <tbody>\n",
       "    <tr>\n",
       "      <th>0</th>\n",
       "      <td>0.00632</td>\n",
       "      <td>18.0</td>\n",
       "      <td>2.31</td>\n",
       "      <td>0</td>\n",
       "      <td>0.538</td>\n",
       "      <td>6.575</td>\n",
       "      <td>65.2</td>\n",
       "      <td>4.0900</td>\n",
       "      <td>1</td>\n",
       "      <td>296</td>\n",
       "      <td>15.3</td>\n",
       "      <td>396.90</td>\n",
       "      <td>4.98</td>\n",
       "    </tr>\n",
       "    <tr>\n",
       "      <th>1</th>\n",
       "      <td>0.02731</td>\n",
       "      <td>0.0</td>\n",
       "      <td>7.07</td>\n",
       "      <td>0</td>\n",
       "      <td>0.469</td>\n",
       "      <td>6.421</td>\n",
       "      <td>78.9</td>\n",
       "      <td>4.9671</td>\n",
       "      <td>2</td>\n",
       "      <td>242</td>\n",
       "      <td>17.8</td>\n",
       "      <td>396.90</td>\n",
       "      <td>9.14</td>\n",
       "    </tr>\n",
       "    <tr>\n",
       "      <th>2</th>\n",
       "      <td>0.02729</td>\n",
       "      <td>0.0</td>\n",
       "      <td>7.07</td>\n",
       "      <td>0</td>\n",
       "      <td>0.469</td>\n",
       "      <td>7.185</td>\n",
       "      <td>61.1</td>\n",
       "      <td>4.9671</td>\n",
       "      <td>2</td>\n",
       "      <td>242</td>\n",
       "      <td>17.8</td>\n",
       "      <td>392.83</td>\n",
       "      <td>4.03</td>\n",
       "    </tr>\n",
       "    <tr>\n",
       "      <th>3</th>\n",
       "      <td>0.03237</td>\n",
       "      <td>0.0</td>\n",
       "      <td>2.18</td>\n",
       "      <td>0</td>\n",
       "      <td>0.458</td>\n",
       "      <td>6.998</td>\n",
       "      <td>45.8</td>\n",
       "      <td>6.0622</td>\n",
       "      <td>3</td>\n",
       "      <td>222</td>\n",
       "      <td>18.7</td>\n",
       "      <td>394.63</td>\n",
       "      <td>2.94</td>\n",
       "    </tr>\n",
       "    <tr>\n",
       "      <th>4</th>\n",
       "      <td>0.06905</td>\n",
       "      <td>0.0</td>\n",
       "      <td>2.18</td>\n",
       "      <td>0</td>\n",
       "      <td>0.458</td>\n",
       "      <td>7.147</td>\n",
       "      <td>54.2</td>\n",
       "      <td>6.0622</td>\n",
       "      <td>3</td>\n",
       "      <td>222</td>\n",
       "      <td>18.7</td>\n",
       "      <td>396.90</td>\n",
       "      <td>5.33</td>\n",
       "    </tr>\n",
       "    <tr>\n",
       "      <th>...</th>\n",
       "      <td>...</td>\n",
       "      <td>...</td>\n",
       "      <td>...</td>\n",
       "      <td>...</td>\n",
       "      <td>...</td>\n",
       "      <td>...</td>\n",
       "      <td>...</td>\n",
       "      <td>...</td>\n",
       "      <td>...</td>\n",
       "      <td>...</td>\n",
       "      <td>...</td>\n",
       "      <td>...</td>\n",
       "      <td>...</td>\n",
       "    </tr>\n",
       "    <tr>\n",
       "      <th>501</th>\n",
       "      <td>0.06263</td>\n",
       "      <td>0.0</td>\n",
       "      <td>11.93</td>\n",
       "      <td>0</td>\n",
       "      <td>0.573</td>\n",
       "      <td>6.593</td>\n",
       "      <td>69.1</td>\n",
       "      <td>2.4786</td>\n",
       "      <td>1</td>\n",
       "      <td>273</td>\n",
       "      <td>21.0</td>\n",
       "      <td>391.99</td>\n",
       "      <td>9.67</td>\n",
       "    </tr>\n",
       "    <tr>\n",
       "      <th>502</th>\n",
       "      <td>0.04527</td>\n",
       "      <td>0.0</td>\n",
       "      <td>11.93</td>\n",
       "      <td>0</td>\n",
       "      <td>0.573</td>\n",
       "      <td>6.120</td>\n",
       "      <td>76.7</td>\n",
       "      <td>2.2875</td>\n",
       "      <td>1</td>\n",
       "      <td>273</td>\n",
       "      <td>21.0</td>\n",
       "      <td>396.90</td>\n",
       "      <td>9.08</td>\n",
       "    </tr>\n",
       "    <tr>\n",
       "      <th>503</th>\n",
       "      <td>0.06076</td>\n",
       "      <td>0.0</td>\n",
       "      <td>11.93</td>\n",
       "      <td>0</td>\n",
       "      <td>0.573</td>\n",
       "      <td>6.976</td>\n",
       "      <td>91.0</td>\n",
       "      <td>2.1675</td>\n",
       "      <td>1</td>\n",
       "      <td>273</td>\n",
       "      <td>21.0</td>\n",
       "      <td>396.90</td>\n",
       "      <td>5.64</td>\n",
       "    </tr>\n",
       "    <tr>\n",
       "      <th>504</th>\n",
       "      <td>0.10959</td>\n",
       "      <td>0.0</td>\n",
       "      <td>11.93</td>\n",
       "      <td>0</td>\n",
       "      <td>0.573</td>\n",
       "      <td>6.794</td>\n",
       "      <td>89.3</td>\n",
       "      <td>2.3889</td>\n",
       "      <td>1</td>\n",
       "      <td>273</td>\n",
       "      <td>21.0</td>\n",
       "      <td>393.45</td>\n",
       "      <td>6.48</td>\n",
       "    </tr>\n",
       "    <tr>\n",
       "      <th>505</th>\n",
       "      <td>0.04741</td>\n",
       "      <td>0.0</td>\n",
       "      <td>11.93</td>\n",
       "      <td>0</td>\n",
       "      <td>0.573</td>\n",
       "      <td>6.030</td>\n",
       "      <td>80.8</td>\n",
       "      <td>2.5050</td>\n",
       "      <td>1</td>\n",
       "      <td>273</td>\n",
       "      <td>21.0</td>\n",
       "      <td>396.90</td>\n",
       "      <td>7.88</td>\n",
       "    </tr>\n",
       "  </tbody>\n",
       "</table>\n",
       "<p>506 rows × 13 columns</p>\n",
       "</div>"
      ],
      "text/plain": [
       "        crim    zn  indus  chas    nox     rm   age     dis  rad  tax  \\\n",
       "0    0.00632  18.0   2.31     0  0.538  6.575  65.2  4.0900    1  296   \n",
       "1    0.02731   0.0   7.07     0  0.469  6.421  78.9  4.9671    2  242   \n",
       "2    0.02729   0.0   7.07     0  0.469  7.185  61.1  4.9671    2  242   \n",
       "3    0.03237   0.0   2.18     0  0.458  6.998  45.8  6.0622    3  222   \n",
       "4    0.06905   0.0   2.18     0  0.458  7.147  54.2  6.0622    3  222   \n",
       "..       ...   ...    ...   ...    ...    ...   ...     ...  ...  ...   \n",
       "501  0.06263   0.0  11.93     0  0.573  6.593  69.1  2.4786    1  273   \n",
       "502  0.04527   0.0  11.93     0  0.573  6.120  76.7  2.2875    1  273   \n",
       "503  0.06076   0.0  11.93     0  0.573  6.976  91.0  2.1675    1  273   \n",
       "504  0.10959   0.0  11.93     0  0.573  6.794  89.3  2.3889    1  273   \n",
       "505  0.04741   0.0  11.93     0  0.573  6.030  80.8  2.5050    1  273   \n",
       "\n",
       "     ptratio   black  lstat  \n",
       "0       15.3  396.90   4.98  \n",
       "1       17.8  396.90   9.14  \n",
       "2       17.8  392.83   4.03  \n",
       "3       18.7  394.63   2.94  \n",
       "4       18.7  396.90   5.33  \n",
       "..       ...     ...    ...  \n",
       "501     21.0  391.99   9.67  \n",
       "502     21.0  396.90   9.08  \n",
       "503     21.0  396.90   5.64  \n",
       "504     21.0  393.45   6.48  \n",
       "505     21.0  396.90   7.88  \n",
       "\n",
       "[506 rows x 13 columns]"
      ]
     },
     "execution_count": 7,
     "metadata": {},
     "output_type": "execute_result"
    }
   ],
   "source": [
    "data"
   ]
  },
  {
   "cell_type": "code",
   "execution_count": 8,
   "metadata": {},
   "outputs": [
    {
     "data": {
      "text/plain": [
       "pandas.core.series.Series"
      ]
     },
     "execution_count": 8,
     "metadata": {},
     "output_type": "execute_result"
    }
   ],
   "source": [
    "type(data_y)"
   ]
  },
  {
   "cell_type": "code",
   "execution_count": 9,
   "metadata": {},
   "outputs": [],
   "source": [
    "data_y = data_y.values"
   ]
  },
  {
   "cell_type": "code",
   "execution_count": 10,
   "metadata": {
    "scrolled": true
   },
   "outputs": [
    {
     "name": "stdout",
     "output_type": "stream",
     "text": [
      "<class 'numpy.ndarray'>\n"
     ]
    },
    {
     "data": {
      "text/plain": [
       "array([24. , 21.6, 34.7, 33.4, 36.2, 28.7, 22.9, 27.1, 16.5, 18.9, 15. ,\n",
       "       18.9, 21.7, 20.4, 18.2, 19.9, 23.1, 17.5, 20.2, 18.2, 13.6, 19.6,\n",
       "       15.2, 14.5, 15.6, 13.9, 16.6, 14.8, 18.4, 21. , 12.7, 14.5, 13.2,\n",
       "       13.1, 13.5, 18.9, 20. , 21. , 24.7, 30.8, 34.9, 26.6, 25.3, 24.7,\n",
       "       21.2, 19.3, 20. , 16.6, 14.4, 19.4, 19.7, 20.5, 25. , 23.4, 18.9,\n",
       "       35.4, 24.7, 31.6, 23.3, 19.6, 18.7, 16. , 22.2, 25. , 33. , 23.5,\n",
       "       19.4, 22. , 17.4, 20.9, 24.2, 21.7, 22.8, 23.4, 24.1, 21.4, 20. ,\n",
       "       20.8, 21.2, 20.3, 28. , 23.9, 24.8, 22.9, 23.9, 26.6, 22.5, 22.2,\n",
       "       23.6, 28.7, 22.6, 22. , 22.9, 25. , 20.6, 28.4, 21.4, 38.7, 43.8,\n",
       "       33.2, 27.5, 26.5, 18.6, 19.3, 20.1, 19.5, 19.5, 20.4, 19.8, 19.4,\n",
       "       21.7, 22.8, 18.8, 18.7, 18.5, 18.3, 21.2, 19.2, 20.4, 19.3, 22. ,\n",
       "       20.3, 20.5, 17.3, 18.8, 21.4, 15.7, 16.2, 18. , 14.3, 19.2, 19.6,\n",
       "       23. , 18.4, 15.6, 18.1, 17.4, 17.1, 13.3, 17.8, 14. , 14.4, 13.4,\n",
       "       15.6, 11.8, 13.8, 15.6, 14.6, 17.8, 15.4, 21.5, 19.6, 15.3, 19.4,\n",
       "       17. , 15.6, 13.1, 41.3, 24.3, 23.3, 27. , 50. , 50. , 50. , 22.7,\n",
       "       25. , 50. , 23.8, 23.8, 22.3, 17.4, 19.1, 23.1, 23.6, 22.6, 29.4,\n",
       "       23.2, 24.6, 29.9, 37.2, 39.8, 36.2, 37.9, 32.5, 26.4, 29.6, 50. ,\n",
       "       32. , 29.8, 34.9, 37. , 30.5, 36.4, 31.1, 29.1, 50. , 33.3, 30.3,\n",
       "       34.6, 34.9, 32.9, 24.1, 42.3, 48.5, 50. , 22.6, 24.4, 22.5, 24.4,\n",
       "       20. , 21.7, 19.3, 22.4, 28.1, 23.7, 25. , 23.3, 28.7, 21.5, 23. ,\n",
       "       26.7, 21.7, 27.5, 30.1, 44.8, 50. , 37.6, 31.6, 46.7, 31.5, 24.3,\n",
       "       31.7, 41.7, 48.3, 29. , 24. , 25.1, 31.5, 23.7, 23.3, 22. , 20.1,\n",
       "       22.2, 23.7, 17.6, 18.5, 24.3, 20.5, 24.5, 26.2, 24.4, 24.8, 29.6,\n",
       "       42.8, 21.9, 20.9, 44. , 50. , 36. , 30.1, 33.8, 43.1, 48.8, 31. ,\n",
       "       36.5, 22.8, 30.7, 50. , 43.5, 20.7, 21.1, 25.2, 24.4, 35.2, 32.4,\n",
       "       32. , 33.2, 33.1, 29.1, 35.1, 45.4, 35.4, 46. , 50. , 32.2, 22. ,\n",
       "       20.1, 23.2, 22.3, 24.8, 28.5, 37.3, 27.9, 23.9, 21.7, 28.6, 27.1,\n",
       "       20.3, 22.5, 29. , 24.8, 22. , 26.4, 33.1, 36.1, 28.4, 33.4, 28.2,\n",
       "       22.8, 20.3, 16.1, 22.1, 19.4, 21.6, 23.8, 16.2, 17.8, 19.8, 23.1,\n",
       "       21. , 23.8, 23.1, 20.4, 18.5, 25. , 24.6, 23. , 22.2, 19.3, 22.6,\n",
       "       19.8, 17.1, 19.4, 22.2, 20.7, 21.1, 19.5, 18.5, 20.6, 19. , 18.7,\n",
       "       32.7, 16.5, 23.9, 31.2, 17.5, 17.2, 23.1, 24.5, 26.6, 22.9, 24.1,\n",
       "       18.6, 30.1, 18.2, 20.6, 17.8, 21.7, 22.7, 22.6, 25. , 19.9, 20.8,\n",
       "       16.8, 21.9, 27.5, 21.9, 23.1, 50. , 50. , 50. , 50. , 50. , 13.8,\n",
       "       13.8, 15. , 13.9, 13.3, 13.1, 10.2, 10.4, 10.9, 11.3, 12.3,  8.8,\n",
       "        7.2, 10.5,  7.4, 10.2, 11.5, 15.1, 23.2,  9.7, 13.8, 12.7, 13.1,\n",
       "       12.5,  8.5,  5. ,  6.3,  5.6,  7.2, 12.1,  8.3,  8.5,  5. , 11.9,\n",
       "       27.9, 17.2, 27.5, 15. , 17.2, 17.9, 16.3,  7. ,  7.2,  7.5, 10.4,\n",
       "        8.8,  8.4, 16.7, 14.2, 20.8, 13.4, 11.7,  8.3, 10.2, 10.9, 11. ,\n",
       "        9.5, 14.5, 14.1, 16.1, 14.3, 11.7, 13.4,  9.6,  8.7,  8.4, 12.8,\n",
       "       10.5, 17.1, 18.4, 15.4, 10.8, 11.8, 14.9, 12.6, 14.1, 13. , 13.4,\n",
       "       15.2, 16.1, 17.8, 14.9, 14.1, 12.7, 13.5, 14.9, 20. , 16.4, 17.7,\n",
       "       19.5, 20.2, 21.4, 19.9, 19. , 19.1, 19.1, 20.1, 19.9, 19.6, 23.2,\n",
       "       29.8, 13.8, 13.3, 16.7, 12. , 14.6, 21.4, 23. , 23.7, 25. , 21.8,\n",
       "       20.6, 21.2, 19.1, 20.6, 15.2,  7. ,  8.1, 13.6, 20.1, 21.8, 24.5,\n",
       "       23.1, 19.7, 18.3, 21.2, 17.5, 16.8, 22.4, 20.6, 23.9, 22. , 11.9])"
      ]
     },
     "execution_count": 10,
     "metadata": {},
     "output_type": "execute_result"
    }
   ],
   "source": [
    "print(type(data_y))\n",
    "data_y"
   ]
  },
  {
   "cell_type": "code",
   "execution_count": 11,
   "metadata": {},
   "outputs": [],
   "source": [
    "data_x = data.values"
   ]
  },
  {
   "cell_type": "code",
   "execution_count": 12,
   "metadata": {},
   "outputs": [
    {
     "data": {
      "text/plain": [
       "array([[6.3200e-03, 1.8000e+01, 2.3100e+00, ..., 1.5300e+01, 3.9690e+02,\n",
       "        4.9800e+00],\n",
       "       [2.7310e-02, 0.0000e+00, 7.0700e+00, ..., 1.7800e+01, 3.9690e+02,\n",
       "        9.1400e+00],\n",
       "       [2.7290e-02, 0.0000e+00, 7.0700e+00, ..., 1.7800e+01, 3.9283e+02,\n",
       "        4.0300e+00],\n",
       "       ...,\n",
       "       [6.0760e-02, 0.0000e+00, 1.1930e+01, ..., 2.1000e+01, 3.9690e+02,\n",
       "        5.6400e+00],\n",
       "       [1.0959e-01, 0.0000e+00, 1.1930e+01, ..., 2.1000e+01, 3.9345e+02,\n",
       "        6.4800e+00],\n",
       "       [4.7410e-02, 0.0000e+00, 1.1930e+01, ..., 2.1000e+01, 3.9690e+02,\n",
       "        7.8800e+00]])"
      ]
     },
     "execution_count": 12,
     "metadata": {},
     "output_type": "execute_result"
    }
   ],
   "source": [
    "data_x"
   ]
  },
  {
   "cell_type": "code",
   "execution_count": null,
   "metadata": {},
   "outputs": [],
   "source": []
  },
  {
   "cell_type": "code",
   "execution_count": 13,
   "metadata": {},
   "outputs": [],
   "source": [
    "from sklearn.preprocessing import StandardScaler\n",
    "ss = StandardScaler()"
   ]
  },
  {
   "cell_type": "code",
   "execution_count": 14,
   "metadata": {},
   "outputs": [],
   "source": [
    "data_x = ss.fit_transform(data_x)"
   ]
  },
  {
   "cell_type": "code",
   "execution_count": 15,
   "metadata": {},
   "outputs": [
    {
     "data": {
      "text/plain": [
       "array([[-0.41978194,  0.28482986, -1.2879095 , ..., -1.45900038,\n",
       "         0.44105193, -1.0755623 ],\n",
       "       [-0.41733926, -0.48772236, -0.59338101, ..., -0.30309415,\n",
       "         0.44105193, -0.49243937],\n",
       "       [-0.41734159, -0.48772236, -0.59338101, ..., -0.30309415,\n",
       "         0.39642699, -1.2087274 ],\n",
       "       ...,\n",
       "       [-0.41344658, -0.48772236,  0.11573841, ...,  1.17646583,\n",
       "         0.44105193, -0.98304761],\n",
       "       [-0.40776407, -0.48772236,  0.11573841, ...,  1.17646583,\n",
       "         0.4032249 , -0.86530163],\n",
       "       [-0.41500016, -0.48772236,  0.11573841, ...,  1.17646583,\n",
       "         0.44105193, -0.66905833]])"
      ]
     },
     "execution_count": 15,
     "metadata": {},
     "output_type": "execute_result"
    }
   ],
   "source": [
    "data_x"
   ]
  },
  {
   "cell_type": "code",
   "execution_count": 16,
   "metadata": {},
   "outputs": [],
   "source": [
    "from sklearn.model_selection import train_test_split"
   ]
  },
  {
   "cell_type": "code",
   "execution_count": 17,
   "metadata": {},
   "outputs": [],
   "source": [
    "X_train, X_test, y_train, y_test = train_test_split(data_x, data_y, test_size = 0.20, random_state = 0)"
   ]
  },
  {
   "cell_type": "code",
   "execution_count": 18,
   "metadata": {},
   "outputs": [
    {
     "name": "stderr",
     "output_type": "stream",
     "text": [
      "Using TensorFlow backend.\n",
      "E:\\Users\\Tuncer\\Anaconda3\\lib\\site-packages\\tensorflow\\python\\framework\\dtypes.py:526: FutureWarning: Passing (type, 1) or '1type' as a synonym of type is deprecated; in a future version of numpy, it will be understood as (type, (1,)) / '(1,)type'.\n",
      "  _np_qint8 = np.dtype([(\"qint8\", np.int8, 1)])\n",
      "E:\\Users\\Tuncer\\Anaconda3\\lib\\site-packages\\tensorflow\\python\\framework\\dtypes.py:527: FutureWarning: Passing (type, 1) or '1type' as a synonym of type is deprecated; in a future version of numpy, it will be understood as (type, (1,)) / '(1,)type'.\n",
      "  _np_quint8 = np.dtype([(\"quint8\", np.uint8, 1)])\n",
      "E:\\Users\\Tuncer\\Anaconda3\\lib\\site-packages\\tensorflow\\python\\framework\\dtypes.py:528: FutureWarning: Passing (type, 1) or '1type' as a synonym of type is deprecated; in a future version of numpy, it will be understood as (type, (1,)) / '(1,)type'.\n",
      "  _np_qint16 = np.dtype([(\"qint16\", np.int16, 1)])\n",
      "E:\\Users\\Tuncer\\Anaconda3\\lib\\site-packages\\tensorflow\\python\\framework\\dtypes.py:529: FutureWarning: Passing (type, 1) or '1type' as a synonym of type is deprecated; in a future version of numpy, it will be understood as (type, (1,)) / '(1,)type'.\n",
      "  _np_quint16 = np.dtype([(\"quint16\", np.uint16, 1)])\n",
      "E:\\Users\\Tuncer\\Anaconda3\\lib\\site-packages\\tensorflow\\python\\framework\\dtypes.py:530: FutureWarning: Passing (type, 1) or '1type' as a synonym of type is deprecated; in a future version of numpy, it will be understood as (type, (1,)) / '(1,)type'.\n",
      "  _np_qint32 = np.dtype([(\"qint32\", np.int32, 1)])\n",
      "E:\\Users\\Tuncer\\Anaconda3\\lib\\site-packages\\tensorflow\\python\\framework\\dtypes.py:535: FutureWarning: Passing (type, 1) or '1type' as a synonym of type is deprecated; in a future version of numpy, it will be understood as (type, (1,)) / '(1,)type'.\n",
      "  np_resource = np.dtype([(\"resource\", np.ubyte, 1)])\n"
     ]
    }
   ],
   "source": [
    "from keras.models import Sequential\n",
    "from keras.layers import Dense"
   ]
  },
  {
   "cell_type": "code",
   "execution_count": 19,
   "metadata": {},
   "outputs": [
    {
     "name": "stdout",
     "output_type": "stream",
     "text": [
      "WARNING:tensorflow:From E:\\Users\\Tuncer\\Anaconda3\\lib\\site-packages\\tensorflow\\python\\framework\\op_def_library.py:263: colocate_with (from tensorflow.python.framework.ops) is deprecated and will be removed in a future version.\n",
      "Instructions for updating:\n",
      "Colocations handled automatically by placer.\n"
     ]
    }
   ],
   "source": [
    "model = Sequential()\n",
    "model.add(Dense(64, input_dim=X_train.shape[1], activation = 'relu'))\n",
    "model.add(Dense(64, activation = 'relu'))\n",
    "model.add(Dense(1, activation=\"linear\"))"
   ]
  },
  {
   "cell_type": "code",
   "execution_count": 20,
   "metadata": {},
   "outputs": [
    {
     "name": "stdout",
     "output_type": "stream",
     "text": [
      "WARNING:tensorflow:From E:\\Users\\Tuncer\\Anaconda3\\lib\\site-packages\\tensorflow\\python\\ops\\math_ops.py:3066: to_int32 (from tensorflow.python.ops.math_ops) is deprecated and will be removed in a future version.\n",
      "Instructions for updating:\n",
      "Use tf.cast instead.\n",
      "Train on 323 samples, validate on 81 samples\n",
      "Epoch 1/100\n",
      "323/323 [==============================] - 1s 2ms/step - loss: 613.6402 - mean_squared_error: 613.6402 - mean_absolute_error: 22.9106 - val_loss: 581.3849 - val_mean_squared_error: 581.3849 - val_mean_absolute_error: 21.9691\n",
      "Epoch 2/100\n",
      "323/323 [==============================] - 0s 84us/step - loss: 569.7909 - mean_squared_error: 569.7909 - mean_absolute_error: 21.9070 - val_loss: 534.9334 - val_mean_squared_error: 534.9334 - val_mean_absolute_error: 20.8833\n",
      "Epoch 3/100\n",
      "323/323 [==============================] - 0s 84us/step - loss: 525.2017 - mean_squared_error: 525.2017 - mean_absolute_error: 20.8044 - val_loss: 481.1621 - val_mean_squared_error: 481.1621 - val_mean_absolute_error: 19.5758\n",
      "Epoch 4/100\n",
      "323/323 [==============================] - 0s 90us/step - loss: 469.8533 - mean_squared_error: 469.8533 - mean_absolute_error: 19.4133 - val_loss: 415.3293 - val_mean_squared_error: 415.3293 - val_mean_absolute_error: 17.8924\n",
      "Epoch 5/100\n",
      "323/323 [==============================] - 0s 93us/step - loss: 401.8724 - mean_squared_error: 401.8724 - mean_absolute_error: 17.6411 - val_loss: 333.1595 - val_mean_squared_error: 333.1595 - val_mean_absolute_error: 15.8260\n",
      "Epoch 6/100\n",
      "323/323 [==============================] - 0s 96us/step - loss: 317.6369 - mean_squared_error: 317.6369 - mean_absolute_error: 15.3898 - val_loss: 239.1155 - val_mean_squared_error: 239.1155 - val_mean_absolute_error: 13.2290\n",
      "Epoch 7/100\n",
      "323/323 [==============================] - 0s 108us/step - loss: 227.4034 - mean_squared_error: 227.4034 - mean_absolute_error: 12.7146 - val_loss: 150.0766 - val_mean_squared_error: 150.0766 - val_mean_absolute_error: 10.1238\n",
      "Epoch 8/100\n",
      "323/323 [==============================] - 0s 102us/step - loss: 144.3709 - mean_squared_error: 144.3709 - mean_absolute_error: 9.7247 - val_loss: 83.5168 - val_mean_squared_error: 83.5168 - val_mean_absolute_error: 6.8763\n",
      "Epoch 9/100\n",
      "323/323 [==============================] - 0s 93us/step - loss: 84.6386 - mean_squared_error: 84.6386 - mean_absolute_error: 7.2816 - val_loss: 57.9275 - val_mean_squared_error: 57.9275 - val_mean_absolute_error: 5.7647\n",
      "Epoch 10/100\n",
      "323/323 [==============================] - 0s 93us/step - loss: 61.7153 - mean_squared_error: 61.7153 - mean_absolute_error: 6.1175 - val_loss: 52.9148 - val_mean_squared_error: 52.9148 - val_mean_absolute_error: 5.6216\n",
      "Epoch 11/100\n",
      "323/323 [==============================] - 0s 93us/step - loss: 48.7405 - mean_squared_error: 48.7405 - mean_absolute_error: 5.3712 - val_loss: 45.2801 - val_mean_squared_error: 45.2801 - val_mean_absolute_error: 5.1759\n",
      "Epoch 12/100\n",
      "323/323 [==============================] - 0s 90us/step - loss: 39.2547 - mean_squared_error: 39.2547 - mean_absolute_error: 4.7327 - val_loss: 36.8432 - val_mean_squared_error: 36.8432 - val_mean_absolute_error: 4.6210\n",
      "Epoch 13/100\n",
      "323/323 [==============================] - 0s 96us/step - loss: 32.1777 - mean_squared_error: 32.1777 - mean_absolute_error: 4.2429 - val_loss: 31.5679 - val_mean_squared_error: 31.5679 - val_mean_absolute_error: 4.2481\n",
      "Epoch 14/100\n",
      "323/323 [==============================] - 0s 93us/step - loss: 28.0112 - mean_squared_error: 28.0112 - mean_absolute_error: 3.8975 - val_loss: 28.4510 - val_mean_squared_error: 28.4510 - val_mean_absolute_error: 3.9859\n",
      "Epoch 15/100\n",
      "323/323 [==============================] - 0s 77us/step - loss: 25.4955 - mean_squared_error: 25.4955 - mean_absolute_error: 3.6947 - val_loss: 26.6818 - val_mean_squared_error: 26.6818 - val_mean_absolute_error: 3.8589\n",
      "Epoch 16/100\n",
      "323/323 [==============================] - 0s 93us/step - loss: 23.4433 - mean_squared_error: 23.4433 - mean_absolute_error: 3.5596 - val_loss: 26.4145 - val_mean_squared_error: 26.4145 - val_mean_absolute_error: 3.8550\n",
      "Epoch 17/100\n",
      "323/323 [==============================] - 0s 96us/step - loss: 22.2231 - mean_squared_error: 22.2231 - mean_absolute_error: 3.4578 - val_loss: 24.8246 - val_mean_squared_error: 24.8246 - val_mean_absolute_error: 3.7182\n",
      "Epoch 18/100\n",
      "323/323 [==============================] - 0s 90us/step - loss: 21.0690 - mean_squared_error: 21.0690 - mean_absolute_error: 3.3373 - val_loss: 23.4630 - val_mean_squared_error: 23.4630 - val_mean_absolute_error: 3.5976\n",
      "Epoch 19/100\n",
      "323/323 [==============================] - 0s 84us/step - loss: 20.0572 - mean_squared_error: 20.0572 - mean_absolute_error: 3.2411 - val_loss: 22.5065 - val_mean_squared_error: 22.5065 - val_mean_absolute_error: 3.5158\n",
      "Epoch 20/100\n",
      "323/323 [==============================] - 0s 102us/step - loss: 19.3445 - mean_squared_error: 19.3445 - mean_absolute_error: 3.1725 - val_loss: 21.4687 - val_mean_squared_error: 21.4687 - val_mean_absolute_error: 3.4285\n",
      "Epoch 21/100\n",
      "323/323 [==============================] - 0s 80us/step - loss: 18.6473 - mean_squared_error: 18.6473 - mean_absolute_error: 3.1011 - val_loss: 21.2251 - val_mean_squared_error: 21.2251 - val_mean_absolute_error: 3.4212\n",
      "Epoch 22/100\n",
      "323/323 [==============================] - 0s 99us/step - loss: 17.9765 - mean_squared_error: 17.9765 - mean_absolute_error: 3.0388 - val_loss: 20.7123 - val_mean_squared_error: 20.7123 - val_mean_absolute_error: 3.3625\n",
      "Epoch 23/100\n",
      "323/323 [==============================] - 0s 93us/step - loss: 17.3423 - mean_squared_error: 17.3423 - mean_absolute_error: 2.9848 - val_loss: 20.4547 - val_mean_squared_error: 20.4547 - val_mean_absolute_error: 3.3444\n",
      "Epoch 24/100\n",
      "323/323 [==============================] - 0s 77us/step - loss: 16.8192 - mean_squared_error: 16.8192 - mean_absolute_error: 2.9385 - val_loss: 19.7878 - val_mean_squared_error: 19.7878 - val_mean_absolute_error: 3.2941\n",
      "Epoch 25/100\n",
      "323/323 [==============================] - 0s 84us/step - loss: 16.2629 - mean_squared_error: 16.2629 - mean_absolute_error: 2.8847 - val_loss: 19.4573 - val_mean_squared_error: 19.4573 - val_mean_absolute_error: 3.2586\n",
      "Epoch 26/100\n",
      "323/323 [==============================] - 0s 96us/step - loss: 15.9862 - mean_squared_error: 15.9862 - mean_absolute_error: 2.8534 - val_loss: 18.7599 - val_mean_squared_error: 18.7599 - val_mean_absolute_error: 3.1863\n",
      "Epoch 27/100\n",
      "323/323 [==============================] - 0s 96us/step - loss: 15.3521 - mean_squared_error: 15.3521 - mean_absolute_error: 2.7820 - val_loss: 17.8542 - val_mean_squared_error: 17.8542 - val_mean_absolute_error: 3.0958\n",
      "Epoch 28/100\n",
      "323/323 [==============================] - 0s 77us/step - loss: 14.9159 - mean_squared_error: 14.9159 - mean_absolute_error: 2.7471 - val_loss: 17.4294 - val_mean_squared_error: 17.4294 - val_mean_absolute_error: 3.0801\n",
      "Epoch 29/100\n",
      "323/323 [==============================] - 0s 93us/step - loss: 14.6848 - mean_squared_error: 14.6848 - mean_absolute_error: 2.7309 - val_loss: 16.5831 - val_mean_squared_error: 16.5831 - val_mean_absolute_error: 2.9825\n",
      "Epoch 30/100\n",
      "323/323 [==============================] - 0s 84us/step - loss: 14.4999 - mean_squared_error: 14.4999 - mean_absolute_error: 2.7712 - val_loss: 17.5933 - val_mean_squared_error: 17.5933 - val_mean_absolute_error: 3.1189\n",
      "Epoch 31/100\n",
      "323/323 [==============================] - 0s 96us/step - loss: 14.3722 - mean_squared_error: 14.3722 - mean_absolute_error: 2.7670 - val_loss: 16.6995 - val_mean_squared_error: 16.6995 - val_mean_absolute_error: 3.0138\n",
      "Epoch 32/100\n",
      "323/323 [==============================] - 0s 105us/step - loss: 13.5177 - mean_squared_error: 13.5177 - mean_absolute_error: 2.6205 - val_loss: 16.1528 - val_mean_squared_error: 16.1528 - val_mean_absolute_error: 2.9433\n",
      "Epoch 33/100\n",
      "323/323 [==============================] - 0s 93us/step - loss: 13.2786 - mean_squared_error: 13.2786 - mean_absolute_error: 2.5624 - val_loss: 16.0574 - val_mean_squared_error: 16.0574 - val_mean_absolute_error: 2.9227\n",
      "Epoch 34/100\n",
      "323/323 [==============================] - 0s 121us/step - loss: 13.1697 - mean_squared_error: 13.1697 - mean_absolute_error: 2.5541 - val_loss: 16.3042 - val_mean_squared_error: 16.3042 - val_mean_absolute_error: 2.9630\n"
     ]
    },
    {
     "name": "stdout",
     "output_type": "stream",
     "text": [
      "Epoch 35/100\n",
      "323/323 [==============================] - 0s 99us/step - loss: 12.7898 - mean_squared_error: 12.7898 - mean_absolute_error: 2.5374 - val_loss: 15.7083 - val_mean_squared_error: 15.7083 - val_mean_absolute_error: 2.8842\n",
      "Epoch 36/100\n",
      "323/323 [==============================] - 0s 102us/step - loss: 12.4040 - mean_squared_error: 12.4040 - mean_absolute_error: 2.5005 - val_loss: 15.7514 - val_mean_squared_error: 15.7514 - val_mean_absolute_error: 2.8811\n",
      "Epoch 37/100\n",
      "323/323 [==============================] - 0s 74us/step - loss: 12.2397 - mean_squared_error: 12.2397 - mean_absolute_error: 2.4683 - val_loss: 15.1164 - val_mean_squared_error: 15.1164 - val_mean_absolute_error: 2.7980\n",
      "Epoch 38/100\n",
      "323/323 [==============================] - 0s 90us/step - loss: 11.9839 - mean_squared_error: 11.9839 - mean_absolute_error: 2.4323 - val_loss: 14.7342 - val_mean_squared_error: 14.7342 - val_mean_absolute_error: 2.7599\n",
      "Epoch 39/100\n",
      "323/323 [==============================] - 0s 93us/step - loss: 11.7509 - mean_squared_error: 11.7509 - mean_absolute_error: 2.4173 - val_loss: 14.7071 - val_mean_squared_error: 14.7071 - val_mean_absolute_error: 2.7664\n",
      "Epoch 40/100\n",
      "323/323 [==============================] - 0s 93us/step - loss: 11.5822 - mean_squared_error: 11.5822 - mean_absolute_error: 2.3939 - val_loss: 13.8585 - val_mean_squared_error: 13.8585 - val_mean_absolute_error: 2.6601\n",
      "Epoch 41/100\n",
      "323/323 [==============================] - 0s 108us/step - loss: 11.4839 - mean_squared_error: 11.4839 - mean_absolute_error: 2.3822 - val_loss: 13.8363 - val_mean_squared_error: 13.8363 - val_mean_absolute_error: 2.6804\n",
      "Epoch 42/100\n",
      "323/323 [==============================] - 0s 77us/step - loss: 11.2672 - mean_squared_error: 11.2672 - mean_absolute_error: 2.3770 - val_loss: 14.3886 - val_mean_squared_error: 14.3886 - val_mean_absolute_error: 2.7486\n",
      "Epoch 43/100\n",
      "323/323 [==============================] - 0s 71us/step - loss: 11.1276 - mean_squared_error: 11.1276 - mean_absolute_error: 2.3617 - val_loss: 13.8866 - val_mean_squared_error: 13.8866 - val_mean_absolute_error: 2.6626\n",
      "Epoch 44/100\n",
      "323/323 [==============================] - 0s 74us/step - loss: 10.9538 - mean_squared_error: 10.9538 - mean_absolute_error: 2.3414 - val_loss: 13.5352 - val_mean_squared_error: 13.5352 - val_mean_absolute_error: 2.6260\n",
      "Epoch 45/100\n",
      "323/323 [==============================] - 0s 93us/step - loss: 10.8298 - mean_squared_error: 10.8298 - mean_absolute_error: 2.3372 - val_loss: 13.2820 - val_mean_squared_error: 13.2820 - val_mean_absolute_error: 2.6446\n",
      "Epoch 46/100\n",
      "323/323 [==============================] - 0s 74us/step - loss: 10.7558 - mean_squared_error: 10.7558 - mean_absolute_error: 2.3324 - val_loss: 12.8632 - val_mean_squared_error: 12.8632 - val_mean_absolute_error: 2.5809\n",
      "Epoch 47/100\n",
      "323/323 [==============================] - 0s 71us/step - loss: 10.5908 - mean_squared_error: 10.5908 - mean_absolute_error: 2.2995 - val_loss: 12.3395 - val_mean_squared_error: 12.3395 - val_mean_absolute_error: 2.4794\n",
      "Epoch 48/100\n",
      "323/323 [==============================] - 0s 71us/step - loss: 10.4982 - mean_squared_error: 10.4982 - mean_absolute_error: 2.2862 - val_loss: 12.3888 - val_mean_squared_error: 12.3888 - val_mean_absolute_error: 2.4888\n",
      "Epoch 49/100\n",
      "323/323 [==============================] - 0s 74us/step - loss: 10.3552 - mean_squared_error: 10.3552 - mean_absolute_error: 2.2874 - val_loss: 13.0725 - val_mean_squared_error: 13.0725 - val_mean_absolute_error: 2.6125\n",
      "Epoch 50/100\n",
      "323/323 [==============================] - 0s 68us/step - loss: 10.2891 - mean_squared_error: 10.2891 - mean_absolute_error: 2.3007 - val_loss: 12.7187 - val_mean_squared_error: 12.7187 - val_mean_absolute_error: 2.5607\n",
      "Epoch 51/100\n",
      "323/323 [==============================] - 0s 68us/step - loss: 10.1259 - mean_squared_error: 10.1259 - mean_absolute_error: 2.2783 - val_loss: 12.1887 - val_mean_squared_error: 12.1887 - val_mean_absolute_error: 2.4806\n",
      "Epoch 52/100\n",
      "323/323 [==============================] - 0s 77us/step - loss: 10.0300 - mean_squared_error: 10.0300 - mean_absolute_error: 2.2634 - val_loss: 12.6519 - val_mean_squared_error: 12.6519 - val_mean_absolute_error: 2.5390\n",
      "Epoch 53/100\n",
      "323/323 [==============================] - 0s 74us/step - loss: 10.0780 - mean_squared_error: 10.0780 - mean_absolute_error: 2.2875 - val_loss: 12.2469 - val_mean_squared_error: 12.2469 - val_mean_absolute_error: 2.5110\n",
      "Epoch 54/100\n",
      "323/323 [==============================] - 0s 65us/step - loss: 9.9350 - mean_squared_error: 9.9350 - mean_absolute_error: 2.2649 - val_loss: 11.4134 - val_mean_squared_error: 11.4134 - val_mean_absolute_error: 2.3848\n",
      "Epoch 55/100\n",
      "323/323 [==============================] - 0s 77us/step - loss: 9.7956 - mean_squared_error: 9.7956 - mean_absolute_error: 2.2449 - val_loss: 11.3706 - val_mean_squared_error: 11.3706 - val_mean_absolute_error: 2.3599\n",
      "Epoch 56/100\n",
      "323/323 [==============================] - 0s 77us/step - loss: 9.7474 - mean_squared_error: 9.7474 - mean_absolute_error: 2.2220 - val_loss: 13.9969 - val_mean_squared_error: 13.9969 - val_mean_absolute_error: 2.6330\n",
      "Epoch 57/100\n",
      "323/323 [==============================] - 0s 71us/step - loss: 10.1074 - mean_squared_error: 10.1074 - mean_absolute_error: 2.2842 - val_loss: 14.7907 - val_mean_squared_error: 14.7907 - val_mean_absolute_error: 2.7136\n",
      "Epoch 58/100\n",
      "323/323 [==============================] - 0s 80us/step - loss: 9.8379 - mean_squared_error: 9.8379 - mean_absolute_error: 2.2603 - val_loss: 13.4934 - val_mean_squared_error: 13.4934 - val_mean_absolute_error: 2.5559\n",
      "Epoch 59/100\n",
      "323/323 [==============================] - 0s 77us/step - loss: 9.6573 - mean_squared_error: 9.6573 - mean_absolute_error: 2.2372 - val_loss: 13.0933 - val_mean_squared_error: 13.0933 - val_mean_absolute_error: 2.5143\n",
      "Epoch 60/100\n",
      "323/323 [==============================] - 0s 77us/step - loss: 9.4948 - mean_squared_error: 9.4948 - mean_absolute_error: 2.2043 - val_loss: 12.6450 - val_mean_squared_error: 12.6450 - val_mean_absolute_error: 2.5003\n",
      "Epoch 61/100\n",
      "323/323 [==============================] - 0s 80us/step - loss: 9.3331 - mean_squared_error: 9.3331 - mean_absolute_error: 2.2005 - val_loss: 12.5996 - val_mean_squared_error: 12.5996 - val_mean_absolute_error: 2.5119\n",
      "Epoch 62/100\n",
      "323/323 [==============================] - 0s 84us/step - loss: 9.3222 - mean_squared_error: 9.3222 - mean_absolute_error: 2.1965 - val_loss: 12.0816 - val_mean_squared_error: 12.0816 - val_mean_absolute_error: 2.4558\n",
      "Epoch 63/100\n",
      "323/323 [==============================] - 0s 74us/step - loss: 9.1255 - mean_squared_error: 9.1255 - mean_absolute_error: 2.1739 - val_loss: 11.4004 - val_mean_squared_error: 11.4004 - val_mean_absolute_error: 2.3554\n",
      "Epoch 64/100\n",
      "323/323 [==============================] - 0s 77us/step - loss: 9.0666 - mean_squared_error: 9.0666 - mean_absolute_error: 2.1520 - val_loss: 11.4243 - val_mean_squared_error: 11.4243 - val_mean_absolute_error: 2.3745\n",
      "Epoch 65/100\n",
      "323/323 [==============================] - 0s 80us/step - loss: 8.9974 - mean_squared_error: 8.9974 - mean_absolute_error: 2.1490 - val_loss: 11.5952 - val_mean_squared_error: 11.5952 - val_mean_absolute_error: 2.4002\n",
      "Epoch 66/100\n",
      "323/323 [==============================] - 0s 77us/step - loss: 8.9211 - mean_squared_error: 8.9211 - mean_absolute_error: 2.1458 - val_loss: 11.3800 - val_mean_squared_error: 11.3800 - val_mean_absolute_error: 2.3811\n",
      "Epoch 67/100\n",
      "323/323 [==============================] - 0s 71us/step - loss: 8.8662 - mean_squared_error: 8.8662 - mean_absolute_error: 2.1368 - val_loss: 11.0418 - val_mean_squared_error: 11.0418 - val_mean_absolute_error: 2.3443\n",
      "Epoch 68/100\n",
      "323/323 [==============================] - 0s 77us/step - loss: 8.7574 - mean_squared_error: 8.7574 - mean_absolute_error: 2.1257 - val_loss: 10.9948 - val_mean_squared_error: 10.9948 - val_mean_absolute_error: 2.3464\n",
      "Epoch 69/100\n",
      "323/323 [==============================] - 0s 71us/step - loss: 8.7574 - mean_squared_error: 8.7574 - mean_absolute_error: 2.1192 - val_loss: 10.8771 - val_mean_squared_error: 10.8771 - val_mean_absolute_error: 2.3359\n",
      "Epoch 70/100\n"
     ]
    },
    {
     "name": "stdout",
     "output_type": "stream",
     "text": [
      "323/323 [==============================] - 0s 84us/step - loss: 8.6861 - mean_squared_error: 8.6861 - mean_absolute_error: 2.1092 - val_loss: 10.7775 - val_mean_squared_error: 10.7775 - val_mean_absolute_error: 2.3186\n",
      "Epoch 71/100\n",
      "323/323 [==============================] - 0s 84us/step - loss: 8.6877 - mean_squared_error: 8.6877 - mean_absolute_error: 2.1068 - val_loss: 10.4373 - val_mean_squared_error: 10.4373 - val_mean_absolute_error: 2.2962\n",
      "Epoch 72/100\n",
      "323/323 [==============================] - 0s 77us/step - loss: 8.5953 - mean_squared_error: 8.5953 - mean_absolute_error: 2.1027 - val_loss: 10.3775 - val_mean_squared_error: 10.3775 - val_mean_absolute_error: 2.2825\n",
      "Epoch 73/100\n",
      "323/323 [==============================] - ETA: 0s - loss: 10.1517 - mean_squared_error: 10.1517 - mean_absolute_error: 1.88 - 0s 87us/step - loss: 8.5284 - mean_squared_error: 8.5284 - mean_absolute_error: 2.0944 - val_loss: 10.3097 - val_mean_squared_error: 10.3097 - val_mean_absolute_error: 2.2713\n",
      "Epoch 74/100\n",
      "323/323 [==============================] - 0s 77us/step - loss: 9.0891 - mean_squared_error: 9.0891 - mean_absolute_error: 2.1921 - val_loss: 11.0496 - val_mean_squared_error: 11.0496 - val_mean_absolute_error: 2.4262\n",
      "Epoch 75/100\n",
      "323/323 [==============================] - 0s 68us/step - loss: 8.7863 - mean_squared_error: 8.7863 - mean_absolute_error: 2.1805 - val_loss: 10.0813 - val_mean_squared_error: 10.0813 - val_mean_absolute_error: 2.2560\n",
      "Epoch 76/100\n",
      "323/323 [==============================] - 0s 80us/step - loss: 8.5235 - mean_squared_error: 8.5235 - mean_absolute_error: 2.1349 - val_loss: 10.1896 - val_mean_squared_error: 10.1896 - val_mean_absolute_error: 2.2901\n",
      "Epoch 77/100\n",
      "323/323 [==============================] - 0s 80us/step - loss: 8.3271 - mean_squared_error: 8.3271 - mean_absolute_error: 2.1028 - val_loss: 10.9910 - val_mean_squared_error: 10.9910 - val_mean_absolute_error: 2.4038\n",
      "Epoch 78/100\n",
      "323/323 [==============================] - 0s 74us/step - loss: 8.2733 - mean_squared_error: 8.2733 - mean_absolute_error: 2.0936 - val_loss: 10.3332 - val_mean_squared_error: 10.3332 - val_mean_absolute_error: 2.3141\n",
      "Epoch 79/100\n",
      "323/323 [==============================] - 0s 71us/step - loss: 8.2654 - mean_squared_error: 8.2654 - mean_absolute_error: 2.0868 - val_loss: 10.1883 - val_mean_squared_error: 10.1883 - val_mean_absolute_error: 2.2905\n",
      "Epoch 80/100\n",
      "323/323 [==============================] - 0s 87us/step - loss: 8.2595 - mean_squared_error: 8.2595 - mean_absolute_error: 2.1013 - val_loss: 10.5963 - val_mean_squared_error: 10.5963 - val_mean_absolute_error: 2.3540\n",
      "Epoch 81/100\n",
      "323/323 [==============================] - 0s 74us/step - loss: 8.2391 - mean_squared_error: 8.2391 - mean_absolute_error: 2.0667 - val_loss: 9.6493 - val_mean_squared_error: 9.6493 - val_mean_absolute_error: 2.2013\n",
      "Epoch 82/100\n",
      "323/323 [==============================] - 0s 74us/step - loss: 8.0896 - mean_squared_error: 8.0896 - mean_absolute_error: 2.0467 - val_loss: 10.0255 - val_mean_squared_error: 10.0255 - val_mean_absolute_error: 2.2733\n",
      "Epoch 83/100\n",
      "323/323 [==============================] - 0s 87us/step - loss: 7.9885 - mean_squared_error: 7.9885 - mean_absolute_error: 2.0501 - val_loss: 10.4169 - val_mean_squared_error: 10.4169 - val_mean_absolute_error: 2.3300\n",
      "Epoch 84/100\n",
      "323/323 [==============================] - 0s 71us/step - loss: 7.8906 - mean_squared_error: 7.8906 - mean_absolute_error: 2.0428 - val_loss: 10.2515 - val_mean_squared_error: 10.2515 - val_mean_absolute_error: 2.3090\n",
      "Epoch 85/100\n",
      "323/323 [==============================] - 0s 71us/step - loss: 7.8668 - mean_squared_error: 7.8668 - mean_absolute_error: 2.0412 - val_loss: 10.1119 - val_mean_squared_error: 10.1119 - val_mean_absolute_error: 2.2795\n",
      "Epoch 86/100\n",
      "323/323 [==============================] - 0s 71us/step - loss: 7.8534 - mean_squared_error: 7.8534 - mean_absolute_error: 2.0256 - val_loss: 9.7633 - val_mean_squared_error: 9.7633 - val_mean_absolute_error: 2.2386\n",
      "Epoch 87/100\n",
      "323/323 [==============================] - 0s 84us/step - loss: 7.7454 - mean_squared_error: 7.7454 - mean_absolute_error: 2.0188 - val_loss: 10.3052 - val_mean_squared_error: 10.3052 - val_mean_absolute_error: 2.3258\n",
      "Epoch 88/100\n",
      "323/323 [==============================] - 0s 77us/step - loss: 7.7687 - mean_squared_error: 7.7687 - mean_absolute_error: 2.0263 - val_loss: 9.8362 - val_mean_squared_error: 9.8362 - val_mean_absolute_error: 2.2698\n",
      "Epoch 89/100\n",
      "323/323 [==============================] - 0s 74us/step - loss: 7.6717 - mean_squared_error: 7.6717 - mean_absolute_error: 2.0110 - val_loss: 9.4235 - val_mean_squared_error: 9.4235 - val_mean_absolute_error: 2.2304\n",
      "Epoch 90/100\n",
      "323/323 [==============================] - 0s 77us/step - loss: 7.6446 - mean_squared_error: 7.6446 - mean_absolute_error: 2.0150 - val_loss: 9.5885 - val_mean_squared_error: 9.5885 - val_mean_absolute_error: 2.2639\n",
      "Epoch 91/100\n",
      "323/323 [==============================] - 0s 77us/step - loss: 7.6243 - mean_squared_error: 7.6243 - mean_absolute_error: 2.0025 - val_loss: 9.3077 - val_mean_squared_error: 9.3077 - val_mean_absolute_error: 2.1974\n",
      "Epoch 92/100\n",
      "323/323 [==============================] - 0s 74us/step - loss: 7.5320 - mean_squared_error: 7.5320 - mean_absolute_error: 1.9909 - val_loss: 9.4596 - val_mean_squared_error: 9.4596 - val_mean_absolute_error: 2.2364\n",
      "Epoch 93/100\n",
      "323/323 [==============================] - 0s 80us/step - loss: 7.5146 - mean_squared_error: 7.5146 - mean_absolute_error: 1.9983 - val_loss: 9.4516 - val_mean_squared_error: 9.4516 - val_mean_absolute_error: 2.2395\n",
      "Epoch 94/100\n",
      "323/323 [==============================] - 0s 84us/step - loss: 7.4101 - mean_squared_error: 7.4101 - mean_absolute_error: 1.9730 - val_loss: 8.9820 - val_mean_squared_error: 8.9820 - val_mean_absolute_error: 2.1575\n",
      "Epoch 95/100\n",
      "323/323 [==============================] - 0s 77us/step - loss: 7.3856 - mean_squared_error: 7.3856 - mean_absolute_error: 1.9762 - val_loss: 9.5643 - val_mean_squared_error: 9.5643 - val_mean_absolute_error: 2.2510\n",
      "Epoch 96/100\n",
      "323/323 [==============================] - 0s 80us/step - loss: 7.3198 - mean_squared_error: 7.3198 - mean_absolute_error: 1.9758 - val_loss: 9.4184 - val_mean_squared_error: 9.4184 - val_mean_absolute_error: 2.2345\n",
      "Epoch 97/100\n",
      "323/323 [==============================] - 0s 77us/step - loss: 7.3034 - mean_squared_error: 7.3034 - mean_absolute_error: 1.9755 - val_loss: 9.1531 - val_mean_squared_error: 9.1531 - val_mean_absolute_error: 2.1960\n",
      "Epoch 98/100\n",
      "323/323 [==============================] - 0s 84us/step - loss: 7.2252 - mean_squared_error: 7.2252 - mean_absolute_error: 1.9481 - val_loss: 8.9793 - val_mean_squared_error: 8.9793 - val_mean_absolute_error: 2.1633\n",
      "Epoch 99/100\n",
      "323/323 [==============================] - 0s 77us/step - loss: 7.1691 - mean_squared_error: 7.1691 - mean_absolute_error: 1.9431 - val_loss: 9.0023 - val_mean_squared_error: 9.0023 - val_mean_absolute_error: 2.1711\n",
      "Epoch 100/100\n",
      "323/323 [==============================] - 0s 77us/step - loss: 7.1665 - mean_squared_error: 7.1665 - mean_absolute_error: 1.9555 - val_loss: 9.0130 - val_mean_squared_error: 9.0130 - val_mean_absolute_error: 2.1870\n"
     ]
    }
   ],
   "source": [
    "model.compile(loss=\"mse\", optimizer=\"adam\", metrics=[\"mse\",\"mae\"])\n",
    "history = model.fit(X_train, y_train, validation_split=0.2, epochs=100, batch_size=32)"
   ]
  },
  {
   "cell_type": "code",
   "execution_count": 21,
   "metadata": {},
   "outputs": [
    {
     "data": {
      "text/plain": [
       "<matplotlib.legend.Legend at 0x230a6f87668>"
      ]
     },
     "execution_count": 21,
     "metadata": {},
     "output_type": "execute_result"
    },
    {
     "data": {
      "image/png": "[encoded data removed]",
      "text/plain": [
       "<Figure size 432x288 with 1 Axes>"
      ]
     },
     "metadata": {
      "needs_background": "light"
     },
     "output_type": "display_data"
    }
   ],
   "source": [
    "plt.title('Epoch Loss Graph')\n",
    "plt.xlabel = 'Epochs'\n",
    "plt.ylabel = 'Loss'\n",
    "plt.plot(range(1, len(history.epoch) + 1), history.history['loss'])\n",
    "plt.plot(range(1, len(history.epoch) + 1), history.history['val_loss'])\n",
    "plt.legend(['loss', 'val_loss'])"
   ]
  },
  {
   "cell_type": "code",
   "execution_count": 22,
   "metadata": {},
   "outputs": [
    {
     "data": {
      "text/plain": [
       "<matplotlib.legend.Legend at 0x230a7024a58>"
      ]
     },
     "execution_count": 22,
     "metadata": {},
     "output_type": "execute_result"
    },
    {
     "data": {
      "image/png": "[encoded data removed]",
      "text/plain": [
       "<Figure size 432x288 with 1 Axes>"
      ]
     },
     "metadata": {
      "needs_background": "light"
     },
     "output_type": "display_data"
    }
   ],
   "source": [
    "plt.title('Epoch Mean Absolute Error ')\n",
    "plt.xlabel = 'Epochs'\n",
    "plt.ylabel = 'Mean Absolute Error'\n",
    "plt.plot(range(1, len(history.epoch) + 1), history.history['mean_absolute_error'])\n",
    "plt.legend(['Mean Absolute error'])"
   ]
  },
  {
   "cell_type": "code",
   "execution_count": 23,
   "metadata": {},
   "outputs": [
    {
     "name": "stdout",
     "output_type": "stream",
     "text": [
      "102/102 [==============================] - 0s 78us/step\n",
      "loss: 23.551591770321714, mse: 23.551591770321714, mse: 3.157678592438791\n"
     ]
    }
   ],
   "source": [
    "loss, mse, mae = model.evaluate(X_test, y_test, batch_size=32)\n",
    "print(\"loss: {}, mse: {}, mse: {}\".format(loss, mse, mae))"
   ]
  },
  {
   "cell_type": "code",
   "execution_count": 24,
   "metadata": {},
   "outputs": [],
   "source": [
    "predict = model.predict(X_test)"
   ]
  },
  {
   "cell_type": "code",
   "execution_count": 25,
   "metadata": {},
   "outputs": [
    {
     "data": {
      "text/plain": [
       "0.6388949929670411"
      ]
     },
     "execution_count": 25,
     "metadata": {},
     "output_type": "execute_result"
    }
   ],
   "source": [
    "from sklearn.metrics import r2_score\n",
    "r2_score(predict, y_test)"
   ]
  },
  {
   "cell_type": "markdown",
   "metadata": {},
   "source": [
    "Linear Regression"
   ]
  },
  {
   "cell_type": "code",
   "execution_count": 27,
   "metadata": {},
   "outputs": [],
   "source": [
    "from sklearn.linear_model import LinearRegression\n",
    "lr = LinearRegression()"
   ]
  },
  {
   "cell_type": "code",
   "execution_count": 28,
   "metadata": {},
   "outputs": [
    {
     "data": {
      "text/plain": [
       "LinearRegression(copy_X=True, fit_intercept=True, n_jobs=None, normalize=False)"
      ]
     },
     "execution_count": 28,
     "metadata": {},
     "output_type": "execute_result"
    }
   ],
   "source": [
    "lr.fit(X_train, y_train)"
   ]
  },
  {
   "cell_type": "code",
   "execution_count": 29,
   "metadata": {},
   "outputs": [],
   "source": [
    "predict = lr.predict(X_test)"
   ]
  },
  {
   "cell_type": "code",
   "execution_count": 30,
   "metadata": {},
   "outputs": [
    {
     "data": {
      "text/plain": [
       "0.5892223849182507"
      ]
     },
     "execution_count": 30,
     "metadata": {},
     "output_type": "execute_result"
    }
   ],
   "source": [
    "r2_score(y_test, predict)"
   ]
  },
  {
   "cell_type": "code",
   "execution_count": 31,
   "metadata": {},
   "outputs": [],
   "source": [
    "predict2 = lr.predict(X_train)"
   ]
  },
  {
   "cell_type": "code",
   "execution_count": 32,
   "metadata": {},
   "outputs": [
    {
     "data": {
      "text/plain": [
       "0.7730135569264233"
      ]
     },
     "execution_count": 32,
     "metadata": {},
     "output_type": "execute_result"
    }
   ],
   "source": [
    "r2_score(y_train, predict2)"
   ]
  },
  {
   "cell_type": "code",
   "execution_count": null,
   "metadata": {},
   "outputs": [],
   "source": []
  }
 ],
 "metadata": {
  "kernelspec": {
   "display_name": "Python 3",
   "language": "python",
   "name": "python3"
  },
  "language_info": {
   "codemirror_mode": {
    "name": "ipython",
    "version": 3
   },
   "file_extension": ".py",
   "mimetype": "text/x-python",
   "name": "python",
   "nbconvert_exporter": "python",
   "pygments_lexer": "ipython3",
   "version": "3.7.3"
  }
 },
 "nbformat": 4,
 "nbformat_minor": 4
}
